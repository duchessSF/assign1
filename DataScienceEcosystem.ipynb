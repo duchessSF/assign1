{
 "cells": [
  {
   "cell_type": "markdown",
   "id": "7857d17e-222a-4dcf-950b-8946701c0dd0",
   "metadata": {},
   "source": [
    "# Data Science Tools and Ecosystem "
   ]
  },
  {
   "cell_type": "markdown",
   "id": "bb8ba8e9-3a1d-4178-a7e1-dd0281380134",
   "metadata": {},
   "source": [
    "## In this notebook, Data Science Tools and Ecosystem are summarized."
   ]
  },
  {
   "cell_type": "markdown",
   "id": "56e92d0c-fa24-4e3d-9138-b29314aa90eb",
   "metadata": {},
   "source": [
    "**Objectives:**\n",
    "\n",
    "• Popular languages used by Data Scientists\n",
    "• Commonly used libraries\n",
    "• Examples of evaluating arithmetic expressions in Python\n"
   ]
  },
  {
   "cell_type": "markdown",
   "id": "b70cb114-66ee-4e74-9e41-70f734568f7b",
   "metadata": {},
   "source": [
    "## Some of the popular languages that Data Scientists use are:"
   ]
  },
  {
   "cell_type": "markdown",
   "id": "feb35a71-1193-45d6-9188-034201e9bea2",
   "metadata": {},
   "source": [
    "1. Python\n",
    "2. R\n",
    "3. SQL\n",
    "4. C++"
   ]
  },
  {
   "cell_type": "markdown",
   "id": "a74ae974-1705-43fa-abb2-5f2aa184caef",
   "metadata": {},
   "source": [
    "## Some of the commonly used libraries used by Data Scientists include:"
   ]
  },
  {
   "cell_type": "markdown",
   "id": "eb95c89e-a754-4ac5-b208-e1e7efc11644",
   "metadata": {},
   "source": [
    "1. Matplotlib\n",
    "2. Scikit-Learn\n",
    "3. TensorFlow\n",
    "4. Pandas\n",
    "5. Keras"
   ]
  },
  {
   "cell_type": "markdown",
   "id": "d6ff35e3-889c-4602-89a2-12f0169c2d3b",
   "metadata": {},
   "source": [
    "| Data Science Tools |\n",
    "| --- |\n",
    "| Jupyter Notebooks |\n",
    "| R Studio |\n",
    "| KNIME |\n"
   ]
  },
  {
   "cell_type": "markdown",
   "id": "1860e125-2375-4e2f-a3b7-9629b3775a0f",
   "metadata": {},
   "source": [
    "### Below are a few examples of evaluating arithmetic expressions in Python"
   ]
  },
  {
   "cell_type": "code",
   "execution_count": null,
   "id": "c376ea1a-a594-4c00-badc-e153c5fc0aab",
   "metadata": {},
   "outputs": [],
   "source": [
    "#This a simple arithmetic expression to mutiply then add integers"
   ]
  },
  {
   "cell_type": "code",
   "execution_count": 1,
   "id": "7657f7ca-177a-45ba-9abe-305b9d12b282",
   "metadata": {
    "tags": []
   },
   "outputs": [
    {
     "data": {
      "text/plain": [
       "17"
      ]
     },
     "execution_count": 1,
     "metadata": {},
     "output_type": "execute_result"
    }
   ],
   "source": [
    "(3*4)+5"
   ]
  },
  {
   "cell_type": "code",
   "execution_count": 2,
   "id": "3ead2f23-9f27-4328-95b0-268c45c330ef",
   "metadata": {
    "tags": []
   },
   "outputs": [
    {
     "data": {
      "text/plain": [
       "3.3333333333333335"
      ]
     },
     "execution_count": 2,
     "metadata": {},
     "output_type": "execute_result"
    }
   ],
   "source": [
    " #This will convert 200 minutes to hours by dividing by 60\n",
    "(200/60)"
   ]
  },
  {
   "cell_type": "markdown",
   "id": "86b26e98-c81f-43aa-bed8-57ad92e04c97",
   "metadata": {},
   "source": [
    "## Author name\n",
    "Kathleen Auterio"
   ]
  }
 ],
 "metadata": {
  "kernelspec": {
   "display_name": "Python",
   "language": "python",
   "name": "conda-env-python-py"
  },
  "language_info": {
   "codemirror_mode": {
    "name": "ipython",
    "version": 3
   },
   "file_extension": ".py",
   "mimetype": "text/x-python",
   "name": "python",
   "nbconvert_exporter": "python",
   "pygments_lexer": "ipython3",
   "version": "3.7.12"
  }
 },
 "nbformat": 4,
 "nbformat_minor": 5
}
